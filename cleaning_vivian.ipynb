{
 "cells": [
  {
   "cell_type": "code",
   "execution_count": 3,
   "id": "bbe35ad0",
   "metadata": {},
   "outputs": [],
   "source": [
    "import pandas as pd\n",
    "import os\n",
    "import matplotlib.pyplot as plt\n",
    "import scipy.stats as st\n",
    "import numpy as np"
   ]
  },
  {
   "cell_type": "code",
   "execution_count": 4,
   "id": "5623b0b4",
   "metadata": {},
   "outputs": [],
   "source": [
    "df_mh_subst_d = pd.read_csv(\"Resources/share-with-mental-and-substance-disorders.csv\")"
   ]
  },
  {
   "cell_type": "code",
   "execution_count": 5,
   "id": "c0b08d77",
   "metadata": {},
   "outputs": [
    {
     "data": {
      "text/html": [
       "<div>\n",
       "<style scoped>\n",
       "    .dataframe tbody tr th:only-of-type {\n",
       "        vertical-align: middle;\n",
       "    }\n",
       "\n",
       "    .dataframe tbody tr th {\n",
       "        vertical-align: top;\n",
       "    }\n",
       "\n",
       "    .dataframe thead th {\n",
       "        text-align: right;\n",
       "    }\n",
       "</style>\n",
       "<table border=\"1\" class=\"dataframe\">\n",
       "  <thead>\n",
       "    <tr style=\"text-align: right;\">\n",
       "      <th></th>\n",
       "      <th>Entity</th>\n",
       "      <th>Code</th>\n",
       "      <th>Year</th>\n",
       "      <th>Prevalence - Mental disorders - Sex: Both - Age: Age-standardized (Percent)</th>\n",
       "    </tr>\n",
       "  </thead>\n",
       "  <tbody>\n",
       "    <tr>\n",
       "      <th>0</th>\n",
       "      <td>Afghanistan</td>\n",
       "      <td>AFG</td>\n",
       "      <td>1990</td>\n",
       "      <td>16.659229</td>\n",
       "    </tr>\n",
       "    <tr>\n",
       "      <th>1</th>\n",
       "      <td>Afghanistan</td>\n",
       "      <td>AFG</td>\n",
       "      <td>1991</td>\n",
       "      <td>16.765052</td>\n",
       "    </tr>\n",
       "    <tr>\n",
       "      <th>2</th>\n",
       "      <td>Afghanistan</td>\n",
       "      <td>AFG</td>\n",
       "      <td>1992</td>\n",
       "      <td>16.874469</td>\n",
       "    </tr>\n",
       "    <tr>\n",
       "      <th>3</th>\n",
       "      <td>Afghanistan</td>\n",
       "      <td>AFG</td>\n",
       "      <td>1993</td>\n",
       "      <td>16.990720</td>\n",
       "    </tr>\n",
       "    <tr>\n",
       "      <th>4</th>\n",
       "      <td>Afghanistan</td>\n",
       "      <td>AFG</td>\n",
       "      <td>1994</td>\n",
       "      <td>17.112730</td>\n",
       "    </tr>\n",
       "  </tbody>\n",
       "</table>\n",
       "</div>"
      ],
      "text/plain": [
       "        Entity Code  Year  \\\n",
       "0  Afghanistan  AFG  1990   \n",
       "1  Afghanistan  AFG  1991   \n",
       "2  Afghanistan  AFG  1992   \n",
       "3  Afghanistan  AFG  1993   \n",
       "4  Afghanistan  AFG  1994   \n",
       "\n",
       "   Prevalence - Mental disorders - Sex: Both - Age: Age-standardized (Percent)  \n",
       "0                                          16.659229                            \n",
       "1                                          16.765052                            \n",
       "2                                          16.874469                            \n",
       "3                                          16.990720                            \n",
       "4                                          17.112730                            "
      ]
     },
     "execution_count": 5,
     "metadata": {},
     "output_type": "execute_result"
    }
   ],
   "source": [
    "df_mh_subst_d.head()"
   ]
  },
  {
   "cell_type": "code",
   "execution_count": 6,
   "id": "63ec76aa",
   "metadata": {},
   "outputs": [
    {
     "data": {
      "text/plain": [
       "(6780, 4)"
      ]
     },
     "execution_count": 6,
     "metadata": {},
     "output_type": "execute_result"
    }
   ],
   "source": [
    "df_mh_subst_d.shape"
   ]
  },
  {
   "cell_type": "code",
   "execution_count": 7,
   "id": "868b7dd9",
   "metadata": {},
   "outputs": [],
   "source": [
    "df_mh_subst_b = pd.read_csv(\"Resources/prevalence-by-mental-and-substance-use-disorder.csv\")"
   ]
  },
  {
   "cell_type": "code",
   "execution_count": 8,
   "id": "d9793021",
   "metadata": {},
   "outputs": [
    {
     "data": {
      "text/html": [
       "<div>\n",
       "<style scoped>\n",
       "    .dataframe tbody tr th:only-of-type {\n",
       "        vertical-align: middle;\n",
       "    }\n",
       "\n",
       "    .dataframe tbody tr th {\n",
       "        vertical-align: top;\n",
       "    }\n",
       "\n",
       "    .dataframe thead th {\n",
       "        text-align: right;\n",
       "    }\n",
       "</style>\n",
       "<table border=\"1\" class=\"dataframe\">\n",
       "  <thead>\n",
       "    <tr style=\"text-align: right;\">\n",
       "      <th></th>\n",
       "      <th>Entity</th>\n",
       "      <th>Code</th>\n",
       "      <th>Year</th>\n",
       "      <th>Prevalence - Schizophrenia - Sex: Both - Age: Age-standardized (Percent)</th>\n",
       "      <th>Prevalence - Bipolar disorder - Sex: Both - Age: Age-standardized (Percent)</th>\n",
       "      <th>Prevalence - Eating disorders - Sex: Both - Age: Age-standardized (Percent)</th>\n",
       "      <th>Prevalence - Anxiety disorders - Sex: Both - Age: Age-standardized (Percent)</th>\n",
       "      <th>Prevalence - Drug use disorders - Sex: Both - Age: Age-standardized (Percent)</th>\n",
       "      <th>Prevalence - Depressive disorders - Sex: Both - Age: Age-standardized (Percent)</th>\n",
       "      <th>Prevalence - Alcohol use disorders - Sex: Both - Age: Age-standardized (Percent)</th>\n",
       "    </tr>\n",
       "  </thead>\n",
       "  <tbody>\n",
       "    <tr>\n",
       "      <th>0</th>\n",
       "      <td>Afghanistan</td>\n",
       "      <td>AFG</td>\n",
       "      <td>1990</td>\n",
       "      <td>0.228979</td>\n",
       "      <td>0.721207</td>\n",
       "      <td>0.131001</td>\n",
       "      <td>4.835127</td>\n",
       "      <td>0.454202</td>\n",
       "      <td>5.125291</td>\n",
       "      <td>0.444036</td>\n",
       "    </tr>\n",
       "    <tr>\n",
       "      <th>1</th>\n",
       "      <td>Afghanistan</td>\n",
       "      <td>AFG</td>\n",
       "      <td>1991</td>\n",
       "      <td>0.228120</td>\n",
       "      <td>0.719952</td>\n",
       "      <td>0.126395</td>\n",
       "      <td>4.821765</td>\n",
       "      <td>0.447112</td>\n",
       "      <td>5.116306</td>\n",
       "      <td>0.444250</td>\n",
       "    </tr>\n",
       "    <tr>\n",
       "      <th>2</th>\n",
       "      <td>Afghanistan</td>\n",
       "      <td>AFG</td>\n",
       "      <td>1992</td>\n",
       "      <td>0.227328</td>\n",
       "      <td>0.718418</td>\n",
       "      <td>0.121832</td>\n",
       "      <td>4.801434</td>\n",
       "      <td>0.441190</td>\n",
       "      <td>5.106558</td>\n",
       "      <td>0.445501</td>\n",
       "    </tr>\n",
       "    <tr>\n",
       "      <th>3</th>\n",
       "      <td>Afghanistan</td>\n",
       "      <td>AFG</td>\n",
       "      <td>1993</td>\n",
       "      <td>0.226468</td>\n",
       "      <td>0.717452</td>\n",
       "      <td>0.117942</td>\n",
       "      <td>4.789363</td>\n",
       "      <td>0.435581</td>\n",
       "      <td>5.100328</td>\n",
       "      <td>0.445958</td>\n",
       "    </tr>\n",
       "    <tr>\n",
       "      <th>4</th>\n",
       "      <td>Afghanistan</td>\n",
       "      <td>AFG</td>\n",
       "      <td>1994</td>\n",
       "      <td>0.225567</td>\n",
       "      <td>0.717012</td>\n",
       "      <td>0.114547</td>\n",
       "      <td>4.784923</td>\n",
       "      <td>0.431822</td>\n",
       "      <td>5.099424</td>\n",
       "      <td>0.445779</td>\n",
       "    </tr>\n",
       "  </tbody>\n",
       "</table>\n",
       "</div>"
      ],
      "text/plain": [
       "        Entity Code  Year  \\\n",
       "0  Afghanistan  AFG  1990   \n",
       "1  Afghanistan  AFG  1991   \n",
       "2  Afghanistan  AFG  1992   \n",
       "3  Afghanistan  AFG  1993   \n",
       "4  Afghanistan  AFG  1994   \n",
       "\n",
       "   Prevalence - Schizophrenia - Sex: Both - Age: Age-standardized (Percent)  \\\n",
       "0                                           0.228979                          \n",
       "1                                           0.228120                          \n",
       "2                                           0.227328                          \n",
       "3                                           0.226468                          \n",
       "4                                           0.225567                          \n",
       "\n",
       "   Prevalence - Bipolar disorder - Sex: Both - Age: Age-standardized (Percent)  \\\n",
       "0                                           0.721207                             \n",
       "1                                           0.719952                             \n",
       "2                                           0.718418                             \n",
       "3                                           0.717452                             \n",
       "4                                           0.717012                             \n",
       "\n",
       "   Prevalence - Eating disorders - Sex: Both - Age: Age-standardized (Percent)  \\\n",
       "0                                           0.131001                             \n",
       "1                                           0.126395                             \n",
       "2                                           0.121832                             \n",
       "3                                           0.117942                             \n",
       "4                                           0.114547                             \n",
       "\n",
       "   Prevalence - Anxiety disorders - Sex: Both - Age: Age-standardized (Percent)  \\\n",
       "0                                           4.835127                              \n",
       "1                                           4.821765                              \n",
       "2                                           4.801434                              \n",
       "3                                           4.789363                              \n",
       "4                                           4.784923                              \n",
       "\n",
       "   Prevalence - Drug use disorders - Sex: Both - Age: Age-standardized (Percent)  \\\n",
       "0                                           0.454202                               \n",
       "1                                           0.447112                               \n",
       "2                                           0.441190                               \n",
       "3                                           0.435581                               \n",
       "4                                           0.431822                               \n",
       "\n",
       "   Prevalence - Depressive disorders - Sex: Both - Age: Age-standardized (Percent)  \\\n",
       "0                                           5.125291                                 \n",
       "1                                           5.116306                                 \n",
       "2                                           5.106558                                 \n",
       "3                                           5.100328                                 \n",
       "4                                           5.099424                                 \n",
       "\n",
       "   Prevalence - Alcohol use disorders - Sex: Both - Age: Age-standardized (Percent)  \n",
       "0                                           0.444036                                 \n",
       "1                                           0.444250                                 \n",
       "2                                           0.445501                                 \n",
       "3                                           0.445958                                 \n",
       "4                                           0.445779                                 "
      ]
     },
     "execution_count": 8,
     "metadata": {},
     "output_type": "execute_result"
    }
   ],
   "source": [
    "df_mh_subst_b.head()"
   ]
  },
  {
   "cell_type": "code",
   "execution_count": 9,
   "id": "8fac164b",
   "metadata": {},
   "outputs": [
    {
     "data": {
      "text/plain": [
       "(6840, 10)"
      ]
     },
     "execution_count": 9,
     "metadata": {},
     "output_type": "execute_result"
    }
   ],
   "source": [
    "df_mh_subst_b.shape"
   ]
  },
  {
   "cell_type": "code",
   "execution_count": 10,
   "id": "0451f4e5",
   "metadata": {},
   "outputs": [],
   "source": [
    "df_mh_subst_c = pd.read_csv(\"Resources/prevalence-of-depression-males-vs-females.csv\")"
   ]
  },
  {
   "cell_type": "code",
   "execution_count": 11,
   "id": "6ead2ab8",
   "metadata": {},
   "outputs": [
    {
     "data": {
      "text/html": [
       "<div>\n",
       "<style scoped>\n",
       "    .dataframe tbody tr th:only-of-type {\n",
       "        vertical-align: middle;\n",
       "    }\n",
       "\n",
       "    .dataframe tbody tr th {\n",
       "        vertical-align: top;\n",
       "    }\n",
       "\n",
       "    .dataframe thead th {\n",
       "        text-align: right;\n",
       "    }\n",
       "</style>\n",
       "<table border=\"1\" class=\"dataframe\">\n",
       "  <thead>\n",
       "    <tr style=\"text-align: right;\">\n",
       "      <th></th>\n",
       "      <th>Entity</th>\n",
       "      <th>Code</th>\n",
       "      <th>Year</th>\n",
       "      <th>Prevalence - Depressive disorders - Sex: Male - Age: Age-standardized (Percent)</th>\n",
       "      <th>Prevalence - Depressive disorders - Sex: Female - Age: Age-standardized (Percent)</th>\n",
       "      <th>Population (historical estimates)</th>\n",
       "      <th>Continent</th>\n",
       "    </tr>\n",
       "  </thead>\n",
       "  <tbody>\n",
       "    <tr>\n",
       "      <th>0</th>\n",
       "      <td>Abkhazia</td>\n",
       "      <td>OWID_ABK</td>\n",
       "      <td>2015</td>\n",
       "      <td>NaN</td>\n",
       "      <td>NaN</td>\n",
       "      <td>NaN</td>\n",
       "      <td>Asia</td>\n",
       "    </tr>\n",
       "    <tr>\n",
       "      <th>1</th>\n",
       "      <td>Afghanistan</td>\n",
       "      <td>AFG</td>\n",
       "      <td>1990</td>\n",
       "      <td>4.291054</td>\n",
       "      <td>5.859656</td>\n",
       "      <td>12412311.0</td>\n",
       "      <td>NaN</td>\n",
       "    </tr>\n",
       "    <tr>\n",
       "      <th>2</th>\n",
       "      <td>Afghanistan</td>\n",
       "      <td>AFG</td>\n",
       "      <td>1991</td>\n",
       "      <td>4.293268</td>\n",
       "      <td>5.853078</td>\n",
       "      <td>13299016.0</td>\n",
       "      <td>NaN</td>\n",
       "    </tr>\n",
       "    <tr>\n",
       "      <th>3</th>\n",
       "      <td>Afghanistan</td>\n",
       "      <td>AFG</td>\n",
       "      <td>1992</td>\n",
       "      <td>4.298265</td>\n",
       "      <td>5.850020</td>\n",
       "      <td>14485543.0</td>\n",
       "      <td>NaN</td>\n",
       "    </tr>\n",
       "    <tr>\n",
       "      <th>4</th>\n",
       "      <td>Afghanistan</td>\n",
       "      <td>AFG</td>\n",
       "      <td>1993</td>\n",
       "      <td>4.303087</td>\n",
       "      <td>5.844987</td>\n",
       "      <td>15816601.0</td>\n",
       "      <td>NaN</td>\n",
       "    </tr>\n",
       "  </tbody>\n",
       "</table>\n",
       "</div>"
      ],
      "text/plain": [
       "        Entity      Code  Year  \\\n",
       "0     Abkhazia  OWID_ABK  2015   \n",
       "1  Afghanistan       AFG  1990   \n",
       "2  Afghanistan       AFG  1991   \n",
       "3  Afghanistan       AFG  1992   \n",
       "4  Afghanistan       AFG  1993   \n",
       "\n",
       "   Prevalence - Depressive disorders - Sex: Male - Age: Age-standardized (Percent)  \\\n",
       "0                                                NaN                                 \n",
       "1                                           4.291054                                 \n",
       "2                                           4.293268                                 \n",
       "3                                           4.298265                                 \n",
       "4                                           4.303087                                 \n",
       "\n",
       "   Prevalence - Depressive disorders - Sex: Female - Age: Age-standardized (Percent)  \\\n",
       "0                                                NaN                                   \n",
       "1                                           5.859656                                   \n",
       "2                                           5.853078                                   \n",
       "3                                           5.850020                                   \n",
       "4                                           5.844987                                   \n",
       "\n",
       "   Population (historical estimates) Continent  \n",
       "0                                NaN      Asia  \n",
       "1                         12412311.0       NaN  \n",
       "2                         13299016.0       NaN  \n",
       "3                         14485543.0       NaN  \n",
       "4                         15816601.0       NaN  "
      ]
     },
     "execution_count": 11,
     "metadata": {},
     "output_type": "execute_result"
    }
   ],
   "source": [
    "df_mh_subst_c.head()"
   ]
  },
  {
   "cell_type": "code",
   "execution_count": 12,
   "id": "9171fd23",
   "metadata": {},
   "outputs": [
    {
     "data": {
      "text/plain": [
       "(56395, 7)"
      ]
     },
     "execution_count": 12,
     "metadata": {},
     "output_type": "execute_result"
    }
   ],
   "source": [
    "df_mh_subst_c.shape"
   ]
  },
  {
   "cell_type": "code",
   "execution_count": 13,
   "id": "eaca0423",
   "metadata": {},
   "outputs": [],
   "source": [
    "df_mh_subst_e = pd.read_csv(\"Resources/share-with-mental-or-substance-disorders-by-sex.csv\")"
   ]
  },
  {
   "cell_type": "code",
   "execution_count": 14,
   "id": "742a44ef",
   "metadata": {},
   "outputs": [
    {
     "data": {
      "text/html": [
       "<div>\n",
       "<style scoped>\n",
       "    .dataframe tbody tr th:only-of-type {\n",
       "        vertical-align: middle;\n",
       "    }\n",
       "\n",
       "    .dataframe tbody tr th {\n",
       "        vertical-align: top;\n",
       "    }\n",
       "\n",
       "    .dataframe thead th {\n",
       "        text-align: right;\n",
       "    }\n",
       "</style>\n",
       "<table border=\"1\" class=\"dataframe\">\n",
       "  <thead>\n",
       "    <tr style=\"text-align: right;\">\n",
       "      <th></th>\n",
       "      <th>Entity</th>\n",
       "      <th>Code</th>\n",
       "      <th>Year</th>\n",
       "      <th>Prevalence - Mental and substance use disorders - Sex: Male - Age: Age-standardized (Percent)</th>\n",
       "      <th>Prevalence - Mental and substance use disorders - Sex: Female - Age: Age-standardized (Percent)</th>\n",
       "      <th>Population (historical estimates)</th>\n",
       "      <th>Continent</th>\n",
       "    </tr>\n",
       "  </thead>\n",
       "  <tbody>\n",
       "    <tr>\n",
       "      <th>0</th>\n",
       "      <td>Abkhazia</td>\n",
       "      <td>OWID_ABK</td>\n",
       "      <td>2015</td>\n",
       "      <td>NaN</td>\n",
       "      <td>NaN</td>\n",
       "      <td>NaN</td>\n",
       "      <td>Asia</td>\n",
       "    </tr>\n",
       "    <tr>\n",
       "      <th>1</th>\n",
       "      <td>Afghanistan</td>\n",
       "      <td>AFG</td>\n",
       "      <td>1990</td>\n",
       "      <td>17.448695</td>\n",
       "      <td>17.634233</td>\n",
       "      <td>12412311.0</td>\n",
       "      <td>NaN</td>\n",
       "    </tr>\n",
       "    <tr>\n",
       "      <th>2</th>\n",
       "      <td>Afghanistan</td>\n",
       "      <td>AFG</td>\n",
       "      <td>1991</td>\n",
       "      <td>17.771263</td>\n",
       "      <td>17.873184</td>\n",
       "      <td>13299016.0</td>\n",
       "      <td>NaN</td>\n",
       "    </tr>\n",
       "    <tr>\n",
       "      <th>3</th>\n",
       "      <td>Afghanistan</td>\n",
       "      <td>AFG</td>\n",
       "      <td>1992</td>\n",
       "      <td>18.051575</td>\n",
       "      <td>18.092318</td>\n",
       "      <td>14485543.0</td>\n",
       "      <td>NaN</td>\n",
       "    </tr>\n",
       "    <tr>\n",
       "      <th>4</th>\n",
       "      <td>Afghanistan</td>\n",
       "      <td>AFG</td>\n",
       "      <td>1993</td>\n",
       "      <td>18.275848</td>\n",
       "      <td>18.265196</td>\n",
       "      <td>15816601.0</td>\n",
       "      <td>NaN</td>\n",
       "    </tr>\n",
       "  </tbody>\n",
       "</table>\n",
       "</div>"
      ],
      "text/plain": [
       "        Entity      Code  Year  \\\n",
       "0     Abkhazia  OWID_ABK  2015   \n",
       "1  Afghanistan       AFG  1990   \n",
       "2  Afghanistan       AFG  1991   \n",
       "3  Afghanistan       AFG  1992   \n",
       "4  Afghanistan       AFG  1993   \n",
       "\n",
       "   Prevalence - Mental and substance use disorders - Sex: Male - Age: Age-standardized (Percent)  \\\n",
       "0                                                NaN                                               \n",
       "1                                          17.448695                                               \n",
       "2                                          17.771263                                               \n",
       "3                                          18.051575                                               \n",
       "4                                          18.275848                                               \n",
       "\n",
       "   Prevalence - Mental and substance use disorders - Sex: Female - Age: Age-standardized (Percent)  \\\n",
       "0                                                NaN                                                 \n",
       "1                                          17.634233                                                 \n",
       "2                                          17.873184                                                 \n",
       "3                                          18.092318                                                 \n",
       "4                                          18.265196                                                 \n",
       "\n",
       "   Population (historical estimates) Continent  \n",
       "0                                NaN      Asia  \n",
       "1                         12412311.0       NaN  \n",
       "2                         13299016.0       NaN  \n",
       "3                         14485543.0       NaN  \n",
       "4                         15816601.0       NaN  "
      ]
     },
     "execution_count": 14,
     "metadata": {},
     "output_type": "execute_result"
    }
   ],
   "source": [
    "df_mh_subst_e.head()"
   ]
  },
  {
   "cell_type": "code",
   "execution_count": 15,
   "id": "698274bd",
   "metadata": {},
   "outputs": [
    {
     "data": {
      "text/plain": [
       "(56629, 7)"
      ]
     },
     "execution_count": 15,
     "metadata": {},
     "output_type": "execute_result"
    }
   ],
   "source": [
    "df_mh_subst_e.shape"
   ]
  },
  {
   "cell_type": "code",
   "execution_count": 16,
   "id": "2012539b",
   "metadata": {
    "scrolled": true
   },
   "outputs": [
    {
     "name": "stdout",
     "output_type": "stream",
     "text": [
      "<class 'pandas.core.frame.DataFrame'>\n",
      "RangeIndex: 56629 entries, 0 to 56628\n",
      "Data columns (total 7 columns):\n",
      " #   Column                                                                                           Non-Null Count  Dtype  \n",
      "---  ------                                                                                           --------------  -----  \n",
      " 0   Entity                                                                                           56629 non-null  object \n",
      " 1   Code                                                                                             54079 non-null  object \n",
      " 2   Year                                                                                             56629 non-null  int64  \n",
      " 3   Prevalence - Mental and substance use disorders - Sex: Male - Age: Age-standardized (Percent)    6468 non-null   float64\n",
      " 4   Prevalence - Mental and substance use disorders - Sex: Female - Age: Age-standardized (Percent)  6468 non-null   float64\n",
      " 5   Population (historical estimates)                                                                55656 non-null  float64\n",
      " 6   Continent                                                                                        285 non-null    object \n",
      "dtypes: float64(3), int64(1), object(3)\n",
      "memory usage: 3.0+ MB\n"
     ]
    }
   ],
   "source": [
    "df_mh_subst_e.info()"
   ]
  },
  {
   "cell_type": "code",
   "execution_count": null,
   "id": "827215da",
   "metadata": {},
   "outputs": [],
   "source": []
  },
  {
   "cell_type": "code",
   "execution_count": null,
   "id": "bf5711e6",
   "metadata": {},
   "outputs": [],
   "source": []
  },
  {
   "cell_type": "code",
   "execution_count": null,
   "id": "e2c8ab0a",
   "metadata": {},
   "outputs": [],
   "source": []
  },
  {
   "cell_type": "code",
   "execution_count": null,
   "id": "30c3280b",
   "metadata": {},
   "outputs": [],
   "source": []
  },
  {
   "cell_type": "code",
   "execution_count": null,
   "id": "fbfddff8",
   "metadata": {},
   "outputs": [],
   "source": []
  }
 ],
 "metadata": {
  "kernelspec": {
   "display_name": "Python 3 (ipykernel)",
   "language": "python",
   "name": "python3"
  },
  "language_info": {
   "codemirror_mode": {
    "name": "ipython",
    "version": 3
   },
   "file_extension": ".py",
   "mimetype": "text/x-python",
   "name": "python",
   "nbconvert_exporter": "python",
   "pygments_lexer": "ipython3",
   "version": "3.9.13"
  }
 },
 "nbformat": 4,
 "nbformat_minor": 5
}
